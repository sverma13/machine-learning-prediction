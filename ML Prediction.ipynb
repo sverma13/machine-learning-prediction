{
 "cells": [
  {
   "cell_type": "markdown",
   "metadata": {},
   "source": [
    "Load libraries."
   ]
  },
  {
   "cell_type": "code",
   "execution_count": 1,
   "metadata": {},
   "outputs": [
    {
     "name": "stderr",
     "output_type": "stream",
     "text": [
      "Using TensorFlow backend.\n"
     ]
    }
   ],
   "source": [
    "# Data analysis libraries\n",
    "import pandas as pd\n",
    "import numpy as np\n",
    "import matplotlib.pyplot as plt\n",
    "import ta\n",
    "import statsmodels.api as sm\n",
    "\n",
    "# Machine learning libraries\n",
    "import keras\n",
    "import tensorflow as tf\n",
    "from sklearn.tree import DecisionTreeRegressor\n",
    "from sklearn.ensemble import RandomForestRegressor\n",
    "from sklearn.ensemble import GradientBoostingRegressor\n",
    "\n",
    "from sklearn.preprocessing import StandardScaler\n",
    "from keras.models import Sequential\n",
    "from keras.layers import Dense\n",
    "from keras.layers import Dropout\n",
    "from sklearn.metrics import r2_score"
   ]
  },
  {
   "cell_type": "markdown",
   "metadata": {},
   "source": [
    "Load stock data."
   ]
  },
  {
   "cell_type": "code",
   "execution_count": 2,
   "metadata": {},
   "outputs": [],
   "source": [
    "ticker = 'MSFT'\n",
    "tickerFile = ticker + '.csv'\n",
    "stockData = pd.read_csv(tickerFile, parse_dates=['Date'])\n",
    "stockData = stockData.sort_values(by='Date')\n",
    "stockData.set_index('Date', inplace=True)"
   ]
  },
  {
   "cell_type": "markdown",
   "metadata": {},
   "source": [
    "Add 10-day percent change column to stock data."
   ]
  },
  {
   "cell_type": "code",
   "execution_count": 3,
   "metadata": {},
   "outputs": [],
   "source": [
    "stockData['10 Day Close Pct'] = stockData['Adj Close'].pct_change(10)\n",
    "shift = -10  # used to shift historical data for ML purposes"
   ]
  },
  {
   "cell_type": "markdown",
   "metadata": {},
   "source": [
    "Define technical indicators (used as ML features)."
   ]
  },
  {
   "cell_type": "code",
   "execution_count": 4,
   "metadata": {},
   "outputs": [],
   "source": [
    "rsi14 = ta.momentum.rsi(close=stockData['Adj Close'], n=14, fillna=False)\n",
    "stockData['RSI_14'] = rsi14\n",
    "bb = ta.volatility.BollingerBands(close=stockData['Adj Close'], n=20, ndev=2)\n",
    "stockData['bb_bbm'] = bb.bollinger_mavg()\n",
    "stockData['bb_bbh'] = bb.bollinger_hband()\n",
    "stockData['bb_bbl'] = bb.bollinger_lband()"
   ]
  },
  {
   "cell_type": "markdown",
   "metadata": {},
   "source": [
    "Define ML features and targets."
   ]
  },
  {
   "cell_type": "code",
   "execution_count": 5,
   "metadata": {},
   "outputs": [],
   "source": [
    "stockData = stockData.dropna()\n",
    "featureNames = ['Open', 'High', 'Low', 'Close', 'Adj Close', 'Volume',\n",
    "                '10 Day Close Pct', 'RSI_14', 'bb_bbm', 'bb_bbh', 'bb_bbl']\n",
    "features = stockData[featureNames]\n",
    "features = features.iloc[:shift]\n",
    "targets = stockData['10 Day Close Pct'].shift(shift)\n",
    "targets = targets.iloc[:shift]\n",
    "\n",
    "trainSize = int(0.85 * targets.shape[0])\n",
    "trainFeatures = features[:trainSize]\n",
    "trainTargets = targets[:trainSize]\n",
    "testFeatures = features[trainSize:]\n",
    "testTargets = targets[trainSize:]"
   ]
  },
  {
   "cell_type": "markdown",
   "metadata": {},
   "source": [
    "Neural network - model setup"
   ]
  },
  {
   "cell_type": "code",
   "execution_count": 6,
   "metadata": {},
   "outputs": [],
   "source": [
    "decisionTree = DecisionTreeRegressor(max_depth=5)\n",
    "decisionTree.fit(trainFeatures, trainTargets)\n",
    "trainPredictions = decisionTree.predict(trainFeatures)\n",
    "testPredictions = decisionTree.predict(testFeatures)"
   ]
  },
  {
   "cell_type": "markdown",
   "metadata": {},
   "source": [
    "Neural network - train and test scores"
   ]
  },
  {
   "cell_type": "code",
   "execution_count": 7,
   "metadata": {},
   "outputs": [
    {
     "name": "stdout",
     "output_type": "stream",
     "text": [
      "Neural network train score: 0.3816\n",
      "Neural network test score: -0.5300\n"
     ]
    }
   ],
   "source": [
    "treeTrain = decisionTree.score(trainFeatures, trainTargets)\n",
    "treeTest = decisionTree.score(testFeatures, testTargets)\n",
    "print('Neural network train score: %0.4f' % treeTrain)\n",
    "print('Neural network test score: %0.4f' % treeTest)"
   ]
  },
  {
   "cell_type": "markdown",
   "metadata": {},
   "source": [
    "Neural network - plot model results"
   ]
  },
  {
   "cell_type": "code",
   "execution_count": 8,
   "metadata": {},
   "outputs": [
    {
     "data": {
      "image/png": "[encoded data removed]",
      "text/plain": [
       "<Figure size 432x288 with 1 Axes>"
      ]
     },
     "metadata": {
      "needs_background": "light"
     },
     "output_type": "display_data"
    }
   ],
   "source": [
    "plt.figure()\n",
    "plt.scatter(trainPredictions, trainTargets, label='Train')\n",
    "plt.scatter(testPredictions, testTargets, label='Test')\n",
    "plt.title('Neural Network - Train vs Test Data')\n",
    "plt.xlabel('Predictions')\n",
    "plt.ylabel('Targets')\n",
    "plt.legend()\n",
    "plt.show()"
   ]
  },
  {
   "cell_type": "markdown",
   "metadata": {},
   "source": [
    "Random forest - model setup"
   ]
  },
  {
   "cell_type": "code",
   "execution_count": 9,
   "metadata": {},
   "outputs": [],
   "source": [
    "randomForest = RandomForestRegressor(n_estimators=200, max_depth=5)\n",
    "randomForest.fit(trainFeatures, trainTargets)\n",
    "trainPredictions = randomForest.predict(trainFeatures)\n",
    "testPredictions = randomForest.predict(testFeatures)"
   ]
  },
  {
   "cell_type": "markdown",
   "metadata": {},
   "source": [
    "Random forest - train and test scores"
   ]
  },
  {
   "cell_type": "code",
   "execution_count": 10,
   "metadata": {},
   "outputs": [
    {
     "name": "stdout",
     "output_type": "stream",
     "text": [
      "Random forest train score: 0.4409\n",
      "Random forest test score: -0.6938\n"
     ]
    }
   ],
   "source": [
    "forestTrain = randomForest.score(trainFeatures, trainTargets)\n",
    "forestTest = randomForest.score(testFeatures, testTargets)\n",
    "print('Random forest train score: %0.4f' % forestTrain)\n",
    "print('Random forest test score: %0.4f' % forestTest)"
   ]
  },
  {
   "cell_type": "markdown",
   "metadata": {},
   "source": [
    "Random forest - plot feature importances"
   ]
  },
  {
   "cell_type": "code",
   "execution_count": 11,
   "metadata": {},
   "outputs": [
    {
     "data": {
      "image/png": "[encoded data removed]",
      "text/plain": [
       "<Figure size 432x288 with 1 Axes>"
      ]
     },
     "metadata": {
      "needs_background": "light"
     },
     "output_type": "display_data"
    },
    {
     "name": "stdout",
     "output_type": "stream",
     "text": [
      "Feature importance array: [0.02513908 0.05093329 0.02993546 0.04302658 0.03572341 0.04735242\n",
      " 0.03957544 0.12733137 0.16447053 0.25055443 0.18595798]\n"
     ]
    }
   ],
   "source": [
    "importances = randomForest.feature_importances_\n",
    "plt.figure()\n",
    "x = range(len(importances))\n",
    "plt.bar(x, importances, tick_label=featureNames)\n",
    "plt.xticks(rotation=90)\n",
    "plt.show()\n",
    "print('Feature importance array:', importances)"
   ]
  },
  {
   "cell_type": "markdown",
   "metadata": {},
   "source": [
    "Random forest - plot model results"
   ]
  },
  {
   "cell_type": "code",
   "execution_count": 12,
   "metadata": {},
   "outputs": [
    {
     "data": {
      "image/png": "[encoded data removed]",
      "text/plain": [
       "<Figure size 432x288 with 1 Axes>"
      ]
     },
     "metadata": {
      "needs_background": "light"
     },
     "output_type": "display_data"
    }
   ],
   "source": [
    "plt.figure()\n",
    "plt.scatter(trainPredictions, trainTargets, label='Train')\n",
    "plt.scatter(testPredictions, testTargets, label='Test')\n",
    "plt.title('Random Forest - Train vs Test Data')\n",
    "plt.xlabel('Predictions')\n",
    "plt.ylabel('Targets')\n",
    "plt.legend()\n",
    "plt.show()"
   ]
  },
  {
   "cell_type": "markdown",
   "metadata": {},
   "source": [
    "Gradient-boosted regressor - model setup"
   ]
  },
  {
   "cell_type": "code",
   "execution_count": 13,
   "metadata": {},
   "outputs": [],
   "source": [
    "gbr = GradientBoostingRegressor(learning_rate=0.01,\n",
    "                                n_estimators=200,\n",
    "                                subsample=0.6)\n",
    "gbr.fit(trainFeatures, trainTargets)\n",
    "trainPredictions = gbr.predict(trainFeatures)\n",
    "testPredictions = gbr.predict(testFeatures)"
   ]
  },
  {
   "cell_type": "markdown",
   "metadata": {},
   "source": [
    "Gradient-boosted regressor - train and test scores"
   ]
  },
  {
   "cell_type": "code",
   "execution_count": 14,
   "metadata": {},
   "outputs": [
    {
     "name": "stdout",
     "output_type": "stream",
     "text": [
      "Gradient boosting train score: 0.3642\n",
      "Gradient boosting test score: -0.4752\n"
     ]
    }
   ],
   "source": [
    "gbrTrain = gbr.score(trainFeatures, trainTargets)\n",
    "gbrTest = gbr.score(testFeatures, testTargets)\n",
    "print('Gradient boosting train score: %0.4f' % gbrTrain)\n",
    "print('Gradient boosting test score: %0.4f' % gbrTest)"
   ]
  },
  {
   "cell_type": "markdown",
   "metadata": {},
   "source": [
    "Gradient-boosted regressor - plot model results"
   ]
  },
  {
   "cell_type": "code",
   "execution_count": 15,
   "metadata": {},
   "outputs": [
    {
     "data": {
      "image/png": "[encoded data removed]",
      "text/plain": [
       "<Figure size 432x288 with 1 Axes>"
      ]
     },
     "metadata": {
      "needs_background": "light"
     },
     "output_type": "display_data"
    }
   ],
   "source": [
    "plt.figure()\n",
    "plt.scatter(trainPredictions, trainTargets, label='Train')\n",
    "plt.scatter(testPredictions, testTargets, label='Test')\n",
    "plt.title('Gradient Boosting - Train vs Test Data')\n",
    "plt.xlabel('Predictions')\n",
    "plt.ylabel('Targets')\n",
    "plt.legend()\n",
    "plt.show()"
   ]
  },
  {
   "cell_type": "markdown",
   "metadata": {},
   "source": [
    "Scale the feature data"
   ]
  },
  {
   "cell_type": "code",
   "execution_count": 16,
   "metadata": {},
   "outputs": [],
   "source": [
    "sc = StandardScaler()\n",
    "scaledTrainFeatures = sc.fit_transform(trainFeatures)\n",
    "scaledTestFeatures = sc.transform(testFeatures)"
   ]
  },
  {
   "cell_type": "markdown",
   "metadata": {},
   "source": [
    "Gradient-boosted regressor w/ scaled data - model setup"
   ]
  },
  {
   "cell_type": "code",
   "execution_count": 17,
   "metadata": {},
   "outputs": [],
   "source": [
    "gbr = GradientBoostingRegressor(learning_rate=0.01,\n",
    "                                n_estimators=200,\n",
    "                                subsample=0.6)\n",
    "gbr.fit(scaledTrainFeatures, trainTargets)\n",
    "trainPredictions = gbr.predict(scaledTrainFeatures)\n",
    "testPredictions = gbr.predict(scaledTestFeatures)"
   ]
  },
  {
   "cell_type": "markdown",
   "metadata": {},
   "source": [
    "Gradient-boosted regressor w/ scaled data - train and test scores"
   ]
  },
  {
   "cell_type": "code",
   "execution_count": 18,
   "metadata": {},
   "outputs": [
    {
     "name": "stdout",
     "output_type": "stream",
     "text": [
      "Scaled gradient boosting train score: 0.3670\n",
      "Scaled gradient boosting test score: -0.5380\n"
     ]
    }
   ],
   "source": [
    "gbrTrain = gbr.score(scaledTrainFeatures, trainTargets)\n",
    "gbrTest = gbr.score(scaledTestFeatures, testTargets)\n",
    "print('Scaled gradient boosting train score: %0.4f' % gbrTrain)\n",
    "print('Scaled gradient boosting test score: %0.4f' % gbrTest)"
   ]
  },
  {
   "cell_type": "markdown",
   "metadata": {},
   "source": [
    "Gradient-boosted regressor w/ scaled data - plot model results"
   ]
  },
  {
   "cell_type": "code",
   "execution_count": 19,
   "metadata": {},
   "outputs": [
    {
     "data": {
      "image/png": "[encoded data removed]",
      "text/plain": [
       "<Figure size 432x288 with 1 Axes>"
      ]
     },
     "metadata": {
      "needs_background": "light"
     },
     "output_type": "display_data"
    }
   ],
   "source": [
    "plt.figure()\n",
    "plt.scatter(trainPredictions, trainTargets, label='Train')\n",
    "plt.scatter(testPredictions, testTargets, label='Test')\n",
    "plt.title('Scaled Gradient Boosting - Train vs Test Data')\n",
    "plt.xlabel('Predictions')\n",
    "plt.ylabel('Targets')\n",
    "plt.legend()\n",
    "plt.show()"
   ]
  },
  {
   "cell_type": "markdown",
   "metadata": {},
   "source": [
    "Scaled Keras model - model setup"
   ]
  },
  {
   "cell_type": "code",
   "execution_count": 20,
   "metadata": {},
   "outputs": [
    {
     "name": "stdout",
     "output_type": "stream",
     "text": [
      "Epoch 1/50\n",
      "1053/1053 [==============================] - 0s 146us/step - loss: 0.0720\n",
      "Epoch 2/50\n",
      "1053/1053 [==============================] - 0s 41us/step - loss: 0.0046\n",
      "Epoch 3/50\n",
      "1053/1053 [==============================] - 0s 44us/step - loss: 0.0028\n",
      "Epoch 4/50\n",
      "1053/1053 [==============================] - 0s 39us/step - loss: 0.0025\n",
      "Epoch 5/50\n",
      "1053/1053 [==============================] - 0s 39us/step - loss: 0.0023\n",
      "Epoch 6/50\n",
      "1053/1053 [==============================] - 0s 41us/step - loss: 0.0021\n",
      "Epoch 7/50\n",
      "1053/1053 [==============================] - 0s 39us/step - loss: 0.0020\n",
      "Epoch 8/50\n",
      "1053/1053 [==============================] - 0s 39us/step - loss: 0.0019\n",
      "Epoch 9/50\n",
      "1053/1053 [==============================] - 0s 37us/step - loss: 0.0018\n",
      "Epoch 10/50\n",
      "1053/1053 [==============================] - 0s 40us/step - loss: 0.0018\n",
      "Epoch 11/50\n",
      "1053/1053 [==============================] - 0s 39us/step - loss: 0.0017\n",
      "Epoch 12/50\n",
      "1053/1053 [==============================] - 0s 37us/step - loss: 0.0017\n",
      "Epoch 13/50\n",
      "1053/1053 [==============================] - 0s 39us/step - loss: 0.0016\n",
      "Epoch 14/50\n",
      "1053/1053 [==============================] - 0s 38us/step - loss: 0.0016\n",
      "Epoch 15/50\n",
      "1053/1053 [==============================] - 0s 40us/step - loss: 0.0016\n",
      "Epoch 16/50\n",
      "1053/1053 [==============================] - 0s 41us/step - loss: 0.0015\n",
      "Epoch 17/50\n",
      "1053/1053 [==============================] - 0s 40us/step - loss: 0.0015\n",
      "Epoch 18/50\n",
      "1053/1053 [==============================] - 0s 38us/step - loss: 0.0015\n",
      "Epoch 19/50\n",
      "1053/1053 [==============================] - 0s 37us/step - loss: 0.0015\n",
      "Epoch 20/50\n",
      "1053/1053 [==============================] - 0s 39us/step - loss: 0.0015\n",
      "Epoch 21/50\n",
      "1053/1053 [==============================] - 0s 37us/step - loss: 0.0015\n",
      "Epoch 22/50\n",
      "1053/1053 [==============================] - 0s 37us/step - loss: 0.0015\n",
      "Epoch 23/50\n",
      "1053/1053 [==============================] - 0s 39us/step - loss: 0.0015\n",
      "Epoch 24/50\n",
      "1053/1053 [==============================] - 0s 38us/step - loss: 0.0014\n",
      "Epoch 25/50\n",
      "1053/1053 [==============================] - 0s 37us/step - loss: 0.0014\n",
      "Epoch 26/50\n",
      "1053/1053 [==============================] - 0s 37us/step - loss: 0.0014\n",
      "Epoch 27/50\n",
      "1053/1053 [==============================] - 0s 39us/step - loss: 0.0014\n",
      "Epoch 28/50\n",
      "1053/1053 [==============================] - 0s 37us/step - loss: 0.0014\n",
      "Epoch 29/50\n",
      "1053/1053 [==============================] - 0s 37us/step - loss: 0.0014\n",
      "Epoch 30/50\n",
      "1053/1053 [==============================] - 0s 39us/step - loss: 0.0013\n",
      "Epoch 31/50\n",
      "1053/1053 [==============================] - 0s 38us/step - loss: 0.0014\n",
      "Epoch 32/50\n",
      "1053/1053 [==============================] - 0s 36us/step - loss: 0.0014\n",
      "Epoch 33/50\n",
      "1053/1053 [==============================] - 0s 37us/step - loss: 0.0013\n",
      "Epoch 34/50\n",
      "1053/1053 [==============================] - 0s 39us/step - loss: 0.0014\n",
      "Epoch 35/50\n",
      "1053/1053 [==============================] - 0s 36us/step - loss: 0.0013\n",
      "Epoch 36/50\n",
      "1053/1053 [==============================] - 0s 37us/step - loss: 0.0014\n",
      "Epoch 37/50\n",
      "1053/1053 [==============================] - 0s 37us/step - loss: 0.0014\n",
      "Epoch 38/50\n",
      "1053/1053 [==============================] - 0s 39us/step - loss: 0.0013\n",
      "Epoch 39/50\n",
      "1053/1053 [==============================] - 0s 41us/step - loss: 0.0014\n",
      "Epoch 40/50\n",
      "1053/1053 [==============================] - 0s 37us/step - loss: 0.0014\n",
      "Epoch 41/50\n",
      "1053/1053 [==============================] - 0s 39us/step - loss: 0.0013\n",
      "Epoch 42/50\n",
      "1053/1053 [==============================] - 0s 37us/step - loss: 0.0014\n",
      "Epoch 43/50\n",
      "1053/1053 [==============================] - 0s 41us/step - loss: 0.0013\n",
      "Epoch 44/50\n",
      "1053/1053 [==============================] - 0s 37us/step - loss: 0.0013\n",
      "Epoch 45/50\n",
      "1053/1053 [==============================] - 0s 39us/step - loss: 0.0013\n",
      "Epoch 46/50\n",
      "1053/1053 [==============================] - 0s 36us/step - loss: 0.0015\n",
      "Epoch 47/50\n",
      "1053/1053 [==============================] - 0s 36us/step - loss: 0.0014\n",
      "Epoch 48/50\n",
      "1053/1053 [==============================] - 0s 37us/step - loss: 0.0014\n",
      "Epoch 49/50\n",
      "1053/1053 [==============================] - 0s 38us/step - loss: 0.0013\n",
      "Epoch 50/50\n",
      "1053/1053 [==============================] - 0s 40us/step - loss: 0.0013\n",
      "Epoch 1/1\n",
      "1053/1053 [==============================] - 0s 37us/step - loss: 0.0013\n"
     ]
    },
    {
     "data": {
      "text/plain": [
       "<keras.callbacks.callbacks.History at 0x1c3ef0fb90>"
      ]
     },
     "execution_count": 20,
     "metadata": {},
     "output_type": "execute_result"
    }
   ],
   "source": [
    "model = Sequential()\n",
    "model.add(Dense(50, input_dim=scaledTrainFeatures.shape[1], activation='relu'))\n",
    "model.add(Dense(10, activation='relu'))\n",
    "model.add(Dense(1, activation='linear'))\n",
    "model.compile(optimizer='adam', loss='mse')\n",
    "history = model.fit(scaledTrainFeatures, trainTargets, epochs=50)\n",
    "model.fit(scaledTrainFeatures, trainTargets)"
   ]
  },
  {
   "cell_type": "markdown",
   "metadata": {},
   "source": [
    "Plot Keras epochs"
   ]
  },
  {
   "cell_type": "code",
   "execution_count": 21,
   "metadata": {},
   "outputs": [
    {
     "data": {
      "image/png": "[encoded data removed]",
      "text/plain": [
       "<Figure size 432x288 with 1 Axes>"
      ]
     },
     "metadata": {
      "needs_background": "light"
     },
     "output_type": "display_data"
    }
   ],
   "source": [
    "plt.plot(history.history['loss'])\n",
    "plt.title('loss:' + str(round(history.history['loss'][-1], 6)))\n",
    "plt.show()"
   ]
  },
  {
   "cell_type": "markdown",
   "metadata": {},
   "source": [
    "Scaled Keras model - prediction"
   ]
  },
  {
   "cell_type": "code",
   "execution_count": 22,
   "metadata": {},
   "outputs": [],
   "source": [
    "trainPredictions = model.predict(scaledTrainFeatures)\n",
    "testPredictions = model.predict(scaledTestFeatures)"
   ]
  },
  {
   "cell_type": "markdown",
   "metadata": {},
   "source": [
    "Scaled Keras model - train and test scores"
   ]
  },
  {
   "cell_type": "code",
   "execution_count": 23,
   "metadata": {},
   "outputs": [
    {
     "name": "stdout",
     "output_type": "stream",
     "text": [
      "Scaled Keras train score: 0.2154\n",
      "Scaled Keras test score: -0.6734\n"
     ]
    }
   ],
   "source": [
    "kerasTrain = r2_score(trainTargets, trainPredictions)\n",
    "kerasTest = r2_score(testTargets, testPredictions)\n",
    "print('Scaled Keras train score: %0.4f' % kerasTrain)\n",
    "print('Scaled Keras test score: %0.4f' % kerasTest)"
   ]
  },
  {
   "cell_type": "markdown",
   "metadata": {},
   "source": [
    "Scaled Keras model - plot model results"
   ]
  },
  {
   "cell_type": "code",
   "execution_count": 24,
   "metadata": {},
   "outputs": [
    {
     "data": {
      "image/png": "[encoded data removed]",
      "text/plain": [
       "<Figure size 432x288 with 1 Axes>"
      ]
     },
     "metadata": {
      "needs_background": "light"
     },
     "output_type": "display_data"
    }
   ],
   "source": [
    "plt.figure()\n",
    "plt.scatter(trainPredictions, trainTargets, label='Train')\n",
    "plt.scatter(testPredictions, testTargets, label='Test')\n",
    "plt.title('SCALED Keras - Train vs Test Data')\n",
    "plt.xlabel('Predictions')\n",
    "plt.ylabel('Targets')\n",
    "plt.legend()\n",
    "plt.show()"
   ]
  }
 ],
 "metadata": {
  "kernelspec": {
   "display_name": "Python 3",
   "language": "python",
   "name": "python3"
  },
  "language_info": {
   "codemirror_mode": {
    "name": "ipython",
    "version": 3
   },
   "file_extension": ".py",
   "mimetype": "text/x-python",
   "name": "python",
   "nbconvert_exporter": "python",
   "pygments_lexer": "ipython3",
   "version": "3.7.4"
  }
 },
 "nbformat": 4,
 "nbformat_minor": 2
}
